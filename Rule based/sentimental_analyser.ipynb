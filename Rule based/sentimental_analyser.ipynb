{
 "cells": [
  {
   "cell_type": "code",
   "execution_count": null,
   "metadata": {
    "colab": {
     "base_uri": "https://localhost:8080/",
     "height": 387
    },
    "colab_type": "code",
    "id": "nMx2UqrJFyw-",
    "outputId": "2a1da4e3-31d4-401f-f6b0-9f693ad8d9a6",
    "scrolled": true
   },
   "outputs": [],
   "source": [
    "!pip install pandas\n",
    "!pip install tweepy\n",
    "!pip install vaderSentiment"
   ]
  },
  {
   "cell_type": "code",
   "execution_count": null,
   "metadata": {
    "colab": {},
    "colab_type": "code",
    "id": "VldzdttbGRT6"
   },
   "outputs": [],
   "source": [
    "import tweepy\n",
    "import pandas as pd\n",
    "from nltk.sentiment.vader import SentimentIntensityAnalyzer"
   ]
  },
  {
   "cell_type": "code",
   "execution_count": null,
   "metadata": {
    "colab": {},
    "colab_type": "code",
    "id": "xoeDu5guGo-N"
   },
   "outputs": [],
   "source": [
    "#Enter Twitter API Authentication Variables\n",
    "consumer_key = ''\n",
    "consumer_secret = ''\n",
    "access_token = ''\n",
    "access_token_secret = ''"
   ]
  },
  {
   "cell_type": "code",
   "execution_count": null,
   "metadata": {
    "colab": {
     "base_uri": "https://localhost:8080/",
     "height": 376
    },
    "colab_type": "code",
    "id": "i41rn4KkG-iz",
    "outputId": "0243083f-626d-4df7-e974-f51e1e9d7790"
   },
   "outputs": [],
   "source": [
    "auth = tweepy.OAuthHandler(consumer_key, consumer_secret)\n",
    "auth.set_access_token(access_token, access_token_secret)\n",
    "\n",
    "api = tweepy.API(auth)\n",
    "\n",
    "product = 'OnePlus 7 Pro'\n",
    "\n",
    "tweets = api.search(product, count=500)\n",
    "\n",
    "\n",
    "data = pd.DataFrame(data=[tweet.text for tweet in tweets], columns=['Tweets'])\n",
    "\n",
    "display(data.head(10))\n",
    "\n",
    "\n",
    "print(tweets[0].created_at)"
   ]
  },
  {
   "cell_type": "code",
   "execution_count": null,
   "metadata": {
    "colab": {
     "base_uri": "https://localhost:8080/",
     "height": 69
    },
    "colab_type": "code",
    "id": "6k_z5lpRIN4t",
    "outputId": "e5f77812-a407-4ed0-8198-240dd01b2bec"
   },
   "outputs": [],
   "source": [
    "import nltk\n",
    "nltk.download('vader_lexicon')"
   ]
  },
  {
   "cell_type": "code",
   "execution_count": null,
   "metadata": {
    "colab": {
     "base_uri": "https://localhost:8080/",
     "height": 1969
    },
    "colab_type": "code",
    "id": "kQiYGQEqIZ3w",
    "outputId": "35c11ad4-4e98-4d25-c32a-0b627a3e5d90"
   },
   "outputs": [],
   "source": [
    "sid = SentimentIntensityAnalyzer()\n",
    "\n",
    "_list = []\n",
    "\n",
    "for index, row in data.iterrows():\n",
    "  ss = sid.polarity_scores(row[\"Tweets\"])\n",
    "  _list.append(ss)\n",
    "  \n",
    "se = pd.Series(_list)\n",
    "data['polarity'] = se.values\n",
    "\n",
    "display(data.head(100))"
   ]
  }
 ],
 "metadata": {
  "colab": {
   "name": "Untitled29.ipynb",
   "provenance": [],
   "version": "0.3.2"
  },
  "kernelspec": {
   "display_name": "Python 3",
   "language": "python",
   "name": "python3"
  },
  "language_info": {
   "codemirror_mode": {
    "name": "ipython",
    "version": 3
   },
   "file_extension": ".py",
   "mimetype": "text/x-python",
   "name": "python",
   "nbconvert_exporter": "python",
   "pygments_lexer": "ipython3",
   "version": "3.6.8"
  }
 },
 "nbformat": 4,
 "nbformat_minor": 1
}
